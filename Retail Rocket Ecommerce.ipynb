{
 "cells": [
  {
   "cell_type": "code",
   "execution_count": 2,
   "metadata": {},
   "outputs": [
    {
     "data": {
      "text/plain": [
       "'/Users/meganyow/Documents/Interviews/Shopify'"
      ]
     },
     "execution_count": 2,
     "metadata": {},
     "output_type": "execute_result"
    }
   ],
   "source": [
    "import os\n",
    "import numpy as np\n",
    "os.getcwd()"
   ]
  },
  {
   "cell_type": "code",
   "execution_count": 3,
   "metadata": {},
   "outputs": [],
   "source": [
    "import pandas as pd\n",
    "cat_tree = pd.read_csv(\"ecommerce-dataset/category_tree.csv\")\n",
    "events = pd.read_csv(\"ecommerce-dataset/events.csv\")\n",
    "item_prop1 = pd.read_csv(\"ecommerce-dataset/item_properties_part1.csv\")\n",
    "item_prop2 = pd.read_csv(\"ecommerce-dataset/item_properties_part2.csv\")"
   ]
  },
  {
   "cell_type": "code",
   "execution_count": 4,
   "metadata": {
    "scrolled": false
   },
   "outputs": [],
   "source": [
    "item_prop = pd.concat([item_prop1, item_prop2])"
   ]
  },
  {
   "cell_type": "code",
   "execution_count": 6,
   "metadata": {},
   "outputs": [
    {
     "data": {
      "text/html": [
       "<div>\n",
       "<style scoped>\n",
       "    .dataframe tbody tr th:only-of-type {\n",
       "        vertical-align: middle;\n",
       "    }\n",
       "\n",
       "    .dataframe tbody tr th {\n",
       "        vertical-align: top;\n",
       "    }\n",
       "\n",
       "    .dataframe thead th {\n",
       "        text-align: right;\n",
       "    }\n",
       "</style>\n",
       "<table border=\"1\" class=\"dataframe\">\n",
       "  <thead>\n",
       "    <tr style=\"text-align: right;\">\n",
       "      <th></th>\n",
       "      <th>categoryid</th>\n",
       "      <th>parentid</th>\n",
       "    </tr>\n",
       "  </thead>\n",
       "  <tbody>\n",
       "    <tr>\n",
       "      <th>0</th>\n",
       "      <td>1016</td>\n",
       "      <td>213.0</td>\n",
       "    </tr>\n",
       "    <tr>\n",
       "      <th>1</th>\n",
       "      <td>809</td>\n",
       "      <td>169.0</td>\n",
       "    </tr>\n",
       "    <tr>\n",
       "      <th>2</th>\n",
       "      <td>570</td>\n",
       "      <td>9.0</td>\n",
       "    </tr>\n",
       "    <tr>\n",
       "      <th>3</th>\n",
       "      <td>1691</td>\n",
       "      <td>885.0</td>\n",
       "    </tr>\n",
       "    <tr>\n",
       "      <th>4</th>\n",
       "      <td>536</td>\n",
       "      <td>1691.0</td>\n",
       "    </tr>\n",
       "  </tbody>\n",
       "</table>\n",
       "</div>"
      ],
      "text/plain": [
       "   categoryid  parentid\n",
       "0        1016     213.0\n",
       "1         809     169.0\n",
       "2         570       9.0\n",
       "3        1691     885.0\n",
       "4         536    1691.0"
      ]
     },
     "execution_count": 6,
     "metadata": {},
     "output_type": "execute_result"
    }
   ],
   "source": [
    "cat_tree.head()"
   ]
  },
  {
   "cell_type": "code",
   "execution_count": 50,
   "metadata": {},
   "outputs": [
    {
     "data": {
      "text/html": [
       "<div>\n",
       "<style scoped>\n",
       "    .dataframe tbody tr th:only-of-type {\n",
       "        vertical-align: middle;\n",
       "    }\n",
       "\n",
       "    .dataframe tbody tr th {\n",
       "        vertical-align: top;\n",
       "    }\n",
       "\n",
       "    .dataframe thead th {\n",
       "        text-align: right;\n",
       "    }\n",
       "</style>\n",
       "<table border=\"1\" class=\"dataframe\">\n",
       "  <thead>\n",
       "    <tr style=\"text-align: right;\">\n",
       "      <th></th>\n",
       "      <th>timestamp</th>\n",
       "      <th>visitorid</th>\n",
       "      <th>event</th>\n",
       "      <th>itemid</th>\n",
       "      <th>transactionid</th>\n",
       "    </tr>\n",
       "  </thead>\n",
       "  <tbody>\n",
       "    <tr>\n",
       "      <th>0</th>\n",
       "      <td>1433221332117</td>\n",
       "      <td>257597</td>\n",
       "      <td>view</td>\n",
       "      <td>355908</td>\n",
       "      <td>NaN</td>\n",
       "    </tr>\n",
       "    <tr>\n",
       "      <th>1</th>\n",
       "      <td>1433224214164</td>\n",
       "      <td>992329</td>\n",
       "      <td>view</td>\n",
       "      <td>248676</td>\n",
       "      <td>NaN</td>\n",
       "    </tr>\n",
       "    <tr>\n",
       "      <th>2</th>\n",
       "      <td>1433221999827</td>\n",
       "      <td>111016</td>\n",
       "      <td>view</td>\n",
       "      <td>318965</td>\n",
       "      <td>NaN</td>\n",
       "    </tr>\n",
       "    <tr>\n",
       "      <th>3</th>\n",
       "      <td>1433221955914</td>\n",
       "      <td>483717</td>\n",
       "      <td>view</td>\n",
       "      <td>253185</td>\n",
       "      <td>NaN</td>\n",
       "    </tr>\n",
       "    <tr>\n",
       "      <th>4</th>\n",
       "      <td>1433221337106</td>\n",
       "      <td>951259</td>\n",
       "      <td>view</td>\n",
       "      <td>367447</td>\n",
       "      <td>NaN</td>\n",
       "    </tr>\n",
       "  </tbody>\n",
       "</table>\n",
       "</div>"
      ],
      "text/plain": [
       "       timestamp  visitorid event  itemid  transactionid\n",
       "0  1433221332117     257597  view  355908            NaN\n",
       "1  1433224214164     992329  view  248676            NaN\n",
       "2  1433221999827     111016  view  318965            NaN\n",
       "3  1433221955914     483717  view  253185            NaN\n",
       "4  1433221337106     951259  view  367447            NaN"
      ]
     },
     "execution_count": 50,
     "metadata": {},
     "output_type": "execute_result"
    }
   ],
   "source": [
    "events.head()"
   ]
  },
  {
   "cell_type": "code",
   "execution_count": 53,
   "metadata": {},
   "outputs": [],
   "source": [
    "item_prop['new_value'] = item_prop1.value.apply(lambda x: x[1:].split(\" \", 1)[0] if x.startswith('n') else np.nan)\n"
   ]
  },
  {
   "cell_type": "markdown",
   "metadata": {},
   "source": [
    "## Events Analysis"
   ]
  },
  {
   "cell_type": "code",
   "execution_count": 58,
   "metadata": {},
   "outputs": [
    {
     "data": {
      "text/html": [
       "<div>\n",
       "<style scoped>\n",
       "    .dataframe tbody tr th:only-of-type {\n",
       "        vertical-align: middle;\n",
       "    }\n",
       "\n",
       "    .dataframe tbody tr th {\n",
       "        vertical-align: top;\n",
       "    }\n",
       "\n",
       "    .dataframe thead th {\n",
       "        text-align: right;\n",
       "    }\n",
       "</style>\n",
       "<table border=\"1\" class=\"dataframe\">\n",
       "  <thead>\n",
       "    <tr style=\"text-align: right;\">\n",
       "      <th></th>\n",
       "      <th>timestamp</th>\n",
       "      <th>visitorid</th>\n",
       "      <th>event</th>\n",
       "      <th>itemid</th>\n",
       "      <th>transactionid</th>\n",
       "    </tr>\n",
       "    <tr>\n",
       "      <th>event</th>\n",
       "      <th></th>\n",
       "      <th></th>\n",
       "      <th></th>\n",
       "      <th></th>\n",
       "      <th></th>\n",
       "    </tr>\n",
       "  </thead>\n",
       "  <tbody>\n",
       "    <tr>\n",
       "      <th>addtocart</th>\n",
       "      <td>68959</td>\n",
       "      <td>37722</td>\n",
       "      <td>1</td>\n",
       "      <td>23903</td>\n",
       "      <td>0</td>\n",
       "    </tr>\n",
       "    <tr>\n",
       "      <th>transaction</th>\n",
       "      <td>20362</td>\n",
       "      <td>11719</td>\n",
       "      <td>1</td>\n",
       "      <td>12025</td>\n",
       "      <td>17672</td>\n",
       "    </tr>\n",
       "    <tr>\n",
       "      <th>view</th>\n",
       "      <td>2661325</td>\n",
       "      <td>1404179</td>\n",
       "      <td>1</td>\n",
       "      <td>234838</td>\n",
       "      <td>0</td>\n",
       "    </tr>\n",
       "  </tbody>\n",
       "</table>\n",
       "</div>"
      ],
      "text/plain": [
       "             timestamp  visitorid  event  itemid  transactionid\n",
       "event                                                          \n",
       "addtocart        68959      37722      1   23903              0\n",
       "transaction      20362      11719      1   12025          17672\n",
       "view           2661325    1404179      1  234838              0"
      ]
     },
     "execution_count": 58,
     "metadata": {},
     "output_type": "execute_result"
    }
   ],
   "source": [
    "events.groupby(['event']).nunique()"
   ]
  },
  {
   "cell_type": "code",
   "execution_count": 59,
   "metadata": {},
   "outputs": [
    {
     "data": {
      "text/html": [
       "<div>\n",
       "<style scoped>\n",
       "    .dataframe tbody tr th:only-of-type {\n",
       "        vertical-align: middle;\n",
       "    }\n",
       "\n",
       "    .dataframe tbody tr th {\n",
       "        vertical-align: top;\n",
       "    }\n",
       "\n",
       "    .dataframe thead th {\n",
       "        text-align: right;\n",
       "    }\n",
       "</style>\n",
       "<table border=\"1\" class=\"dataframe\">\n",
       "  <thead>\n",
       "    <tr style=\"text-align: right;\">\n",
       "      <th></th>\n",
       "      <th>timestamp</th>\n",
       "      <th>visitorid</th>\n",
       "      <th>itemid</th>\n",
       "      <th>transactionid</th>\n",
       "    </tr>\n",
       "    <tr>\n",
       "      <th>event</th>\n",
       "      <th></th>\n",
       "      <th></th>\n",
       "      <th></th>\n",
       "      <th></th>\n",
       "    </tr>\n",
       "  </thead>\n",
       "  <tbody>\n",
       "    <tr>\n",
       "      <th>addtocart</th>\n",
       "      <td>69332</td>\n",
       "      <td>69332</td>\n",
       "      <td>69332</td>\n",
       "      <td>0</td>\n",
       "    </tr>\n",
       "    <tr>\n",
       "      <th>transaction</th>\n",
       "      <td>22457</td>\n",
       "      <td>22457</td>\n",
       "      <td>22457</td>\n",
       "      <td>22457</td>\n",
       "    </tr>\n",
       "    <tr>\n",
       "      <th>view</th>\n",
       "      <td>2664312</td>\n",
       "      <td>2664312</td>\n",
       "      <td>2664312</td>\n",
       "      <td>0</td>\n",
       "    </tr>\n",
       "  </tbody>\n",
       "</table>\n",
       "</div>"
      ],
      "text/plain": [
       "             timestamp  visitorid   itemid  transactionid\n",
       "event                                                    \n",
       "addtocart        69332      69332    69332              0\n",
       "transaction      22457      22457    22457          22457\n",
       "view           2664312    2664312  2664312              0"
      ]
     },
     "execution_count": 59,
     "metadata": {},
     "output_type": "execute_result"
    }
   ],
   "source": [
    "events.groupby(['event']).count()"
   ]
  },
  {
   "cell_type": "markdown",
   "metadata": {},
   "source": [
    "78.7% of transactions are single item so a market basket analysis not suitable"
   ]
  },
  {
   "cell_type": "code",
   "execution_count": 61,
   "metadata": {},
   "outputs": [
    {
     "data": {
      "text/plain": [
       "0.7869261254842588"
      ]
     },
     "execution_count": 61,
     "metadata": {},
     "output_type": "execute_result"
    }
   ],
   "source": [
    "17672 / 22457\n"
   ]
  },
  {
   "cell_type": "code",
   "execution_count": 51,
   "metadata": {},
   "outputs": [
    {
     "name": "stdout",
     "output_type": "stream",
     "text": [
      "Visitor count on actions: (2756101,)\n",
      "Total unique visitors : (1407580,)\n"
     ]
    }
   ],
   "source": [
    "visitors=events[\"visitorid\"].unique()\n",
    "print('Visitor count on actions:',events[\"visitorid\"].shape)\n",
    "print('Total unique visitors :',visitors.shape)\n",
    "# unique visitors are almost half the number of total visitors"
   ]
  },
  {
   "cell_type": "markdown",
   "metadata": {},
   "source": [
    "Action Plots"
   ]
  },
  {
   "cell_type": "code",
   "execution_count": 78,
   "metadata": {},
   "outputs": [],
   "source": [
    "import matplotlib.pyplot as plt\n",
    "import seaborn as sns\n",
    "sns.set(style=\"ticks\", color_codes=True)"
   ]
  },
  {
   "cell_type": "code",
   "execution_count": 79,
   "metadata": {},
   "outputs": [
    {
     "data": {
      "text/plain": [
       "0.967527264504411"
      ]
     },
     "execution_count": 79,
     "metadata": {},
     "output_type": "execute_result"
    }
   ],
   "source": [
    "2661325 / (2661325 + 68959 + 20362) # % of views"
   ]
  },
  {
   "cell_type": "code",
   "execution_count": 80,
   "metadata": {},
   "outputs": [
    {
     "data": {
      "text/plain": [
       "0.7720356914947213"
      ]
     },
     "execution_count": 80,
     "metadata": {},
     "output_type": "execute_result"
    }
   ],
   "source": [
    " 68959 / (68959 + 20362) # % of add to carts"
   ]
  },
  {
   "cell_type": "code",
   "execution_count": 81,
   "metadata": {},
   "outputs": [
    {
     "data": {
      "image/png": "[encoded data removed]",
      "text/plain": [
       "<Figure size 1080x576 with 2 Axes>"
      ]
     },
     "metadata": {},
     "output_type": "display_data"
    }
   ],
   "source": [
    "fig, axs = plt.subplots(ncols=2,figsize=(15, 8))\n",
    "events_count=events[\"event\"].value_counts() # include view\n",
    "plt.title('96% of events are views')\n",
    "sns.barplot(events_count.index, events_count.values, ax=axs[0])\n",
    "events_count=events[\"event\"].value_counts()[1:] # exclude view\n",
    "plt.title('77% of non-views are add to carts')\n",
    "g=sns.barplot(events_count.index, events_count.values,ax=axs[1])"
   ]
  },
  {
   "cell_type": "code",
   "execution_count": 82,
   "metadata": {},
   "outputs": [
    {
     "data": {
      "image/png": "[encoded data removed]",
      "text/plain": [
       "<Figure size 576x576 with 1 Axes>"
      ]
     },
     "metadata": {},
     "output_type": "display_data"
    }
   ],
   "source": [
    "data = events.event.value_counts()\n",
    "labels = data.index\n",
    "sizes = data.values\n",
    "explode = (0, 0.05, 0.15)\n",
    "fig, ax = plt.subplots(figsize=(8,8))\n",
    "\n",
    "patches, texts, autotexts = ax.pie(sizes, labels=labels, explode=explode, autopct='%1.2f%%', shadow=False, startangle=0) \n",
    "\n",
    "ax.axis('equal')\n",
    "plt.show()"
   ]
  },
  {
   "cell_type": "code",
   "execution_count": 154,
   "metadata": {},
   "outputs": [],
   "source": [
    "grouped = events.groupby(['event','itemid']).count()"
   ]
  },
  {
   "cell_type": "code",
   "execution_count": 155,
   "metadata": {
    "scrolled": true
   },
   "outputs": [],
   "source": [
    "grouped = grouped.sort_values(by=['timestamp'],ascending=False)\n",
    "grouped = grouped.reset_index()"
   ]
  },
  {
   "cell_type": "code",
   "execution_count": 162,
   "metadata": {},
   "outputs": [
    {
     "data": {
      "text/plain": [
       "<matplotlib.axes._subplots.AxesSubplot at 0x241725908>"
      ]
     },
     "execution_count": 162,
     "metadata": {},
     "output_type": "execute_result"
    },
    {
     "data": {
      "image/png": "[encoded data removed]",
      "text/plain": [
       "<Figure size 432x288 with 1 Axes>"
      ]
     },
     "metadata": {},
     "output_type": "display_data"
    }
   ],
   "source": [
    "# Views (most viewed item)\n",
    "y = grouped[grouped['event']=='view'].timestamp[0:5]\n",
    "x = grouped[grouped['event']=='view'].itemid[0:5]\n",
    "sns.barplot(x,y,order=x)"
   ]
  },
  {
   "cell_type": "code",
   "execution_count": 163,
   "metadata": {},
   "outputs": [
    {
     "data": {
      "text/plain": [
       "<matplotlib.axes._subplots.AxesSubplot at 0x241779f98>"
      ]
     },
     "execution_count": 163,
     "metadata": {},
     "output_type": "execute_result"
    },
    {
     "data": {
      "image/png": "[encoded data removed]",
      "text/plain": [
       "<Figure size 432x288 with 1 Axes>"
      ]
     },
     "metadata": {},
     "output_type": "display_data"
    }
   ],
   "source": [
    "# Addtocart (most popular added to cart items)\n",
    "y = grouped[grouped['event']=='addtocart'].timestamp[0:5]\n",
    "x = grouped[grouped['event']=='addtocart'].itemid[0:5]\n",
    "sns.barplot(x,y,order=x)"
   ]
  },
  {
   "cell_type": "code",
   "execution_count": 164,
   "metadata": {},
   "outputs": [
    {
     "data": {
      "text/plain": [
       "<matplotlib.axes._subplots.AxesSubplot at 0x2419f0518>"
      ]
     },
     "execution_count": 164,
     "metadata": {},
     "output_type": "execute_result"
    },
    {
     "data": {
      "image/png": "[encoded data removed]",
      "text/plain": [
       "<Figure size 432x288 with 1 Axes>"
      ]
     },
     "metadata": {},
     "output_type": "display_data"
    }
   ],
   "source": [
    "# Transaction (most popular items bought)\n",
    "y = grouped[grouped['event']=='transaction'].timestamp[0:5]\n",
    "x = grouped[grouped['event']=='transaction'].itemid[0:5]\n",
    "sns.barplot(x,y,order=x)"
   ]
  },
  {
   "cell_type": "code",
   "execution_count": 175,
   "metadata": {},
   "outputs": [
    {
     "data": {
      "text/plain": [
       "count    234838.000000\n",
       "mean         11.345319\n",
       "std          35.409345\n",
       "min           1.000000\n",
       "25%           1.000000\n",
       "50%           3.000000\n",
       "75%           9.000000\n",
       "max        3410.000000\n",
       "Name: timestamp, dtype: float64"
      ]
     },
     "execution_count": 175,
     "metadata": {},
     "output_type": "execute_result"
    }
   ],
   "source": [
    "# average number of views for each item is 11, \n",
    "# upper 25th percentile item has 9 views or more\n",
    "grouped[grouped.event == 'view'].timestamp.describe()"
   ]
  },
  {
   "cell_type": "code",
   "execution_count": 176,
   "metadata": {},
   "outputs": [
    {
     "data": {
      "text/plain": [
       "count    23903.000000\n",
       "mean         2.900556\n",
       "std          5.026141\n",
       "min          1.000000\n",
       "25%          1.000000\n",
       "50%          2.000000\n",
       "75%          3.000000\n",
       "max        306.000000\n",
       "Name: timestamp, dtype: float64"
      ]
     },
     "execution_count": 176,
     "metadata": {},
     "output_type": "execute_result"
    }
   ],
   "source": [
    "# average number of views for each item is 2.9, \n",
    "# upper 25th percentile item has 3 views or more\n",
    "grouped[grouped.event == 'addtocart'].timestamp.describe()"
   ]
  },
  {
   "cell_type": "code",
   "execution_count": 177,
   "metadata": {},
   "outputs": [
    {
     "data": {
      "text/plain": [
       "count    12025.000000\n",
       "mean         1.867526\n",
       "std          2.710560\n",
       "min          1.000000\n",
       "25%          1.000000\n",
       "50%          1.000000\n",
       "75%          2.000000\n",
       "max        133.000000\n",
       "Name: timestamp, dtype: float64"
      ]
     },
     "execution_count": 177,
     "metadata": {},
     "output_type": "execute_result"
    }
   ],
   "source": [
    "# average number of views for each item is 1.8, \n",
    "# upper 25th percentile item has 2.0 views or more\n",
    "grouped[grouped.event == 'transaction'].timestamp.describe()"
   ]
  },
  {
   "cell_type": "code",
   "execution_count": 178,
   "metadata": {},
   "outputs": [
    {
     "data": {
      "text/plain": [
       "<matplotlib.axes._subplots.AxesSubplot at 0x218dffb38>"
      ]
     },
     "execution_count": 178,
     "metadata": {},
     "output_type": "execute_result"
    },
    {
     "data": {
      "image/png": "[encoded data removed]",
      "text/plain": [
       "<Figure size 432x288 with 2 Axes>"
      ]
     },
     "metadata": {},
     "output_type": "display_data"
    }
   ],
   "source": [
    "# doesn't tell me anything\n",
    "corr = events[events.columns].corr()\n",
    "sns.heatmap(corr,annot = True)"
   ]
  },
  {
   "cell_type": "markdown",
   "metadata": {},
   "source": [
    "## Log-Likelihood Ratio Recommendation System\n",
    "https://towardsdatascience.com/how-to-create-a-production-ready-recommender-system-3c932752f8ea"
   ]
  },
  {
   "cell_type": "code",
   "execution_count": 26,
   "metadata": {},
   "outputs": [
    {
     "name": "stdout",
     "output_type": "stream",
     "text": [
      "1407580 466866\n"
     ]
    }
   ],
   "source": [
    "n_users = events['visitorid'].unique().shape[0]\n",
    "n_items = item_prop['itemid'].max()\n",
    "print (str(n_users) +\" \" +  str(n_items))"
   ]
  },
  {
   "cell_type": "code",
   "execution_count": 39,
   "metadata": {},
   "outputs": [
    {
     "data": {
      "text/plain": [
       "2300.02935498"
      ]
     },
     "execution_count": 39,
     "metadata": {},
     "output_type": "execute_result"
    }
   ],
   "source": [
    "import sys\n",
    "1407580 * 466866 * sys.getsizeof(np.int32()) / (8 * (10 ** 12)) # user-item matrix will be 2.6 TB large, let's not make this"
   ]
  },
  {
   "cell_type": "markdown",
   "metadata": {},
   "source": [
    "Because this dataset is so large, let's look at transactions only"
   ]
  },
  {
   "cell_type": "code",
   "execution_count": 28,
   "metadata": {},
   "outputs": [],
   "source": [
    "trans_events = events[events.event == 'transaction']"
   ]
  },
  {
   "cell_type": "code",
   "execution_count": 36,
   "metadata": {},
   "outputs": [
    {
     "name": "stdout",
     "output_type": "stream",
     "text": [
      "There are 11719 unique visitors and 12025 unique items\n"
     ]
    }
   ],
   "source": [
    "visitors = trans_events.visitorid.unique()\n",
    "items = trans_events.itemid.unique()\n",
    "\n",
    "print(\"There are {0} unique visitors and {1} unique items\".format(visitors.shape[0], items.shape[0]))"
   ]
  },
  {
   "cell_type": "code",
   "execution_count": 56,
   "metadata": {},
   "outputs": [
    {
     "name": "stderr",
     "output_type": "stream",
     "text": [
      "/Users/meganyow/anaconda3/lib/python3.7/site-packages/ipykernel_launcher.py:2: SettingWithCopyWarning: \n",
      "A value is trying to be set on a copy of a slice from a DataFrame.\n",
      "Try using .loc[row_indexer,col_indexer] = value instead\n",
      "\n",
      "See the caveats in the documentation: http://pandas.pydata.org/pandas-docs/stable/indexing.html#indexing-view-versus-copy\n",
      "  \n",
      "/Users/meganyow/anaconda3/lib/python3.7/site-packages/ipykernel_launcher.py:3: SettingWithCopyWarning: \n",
      "A value is trying to be set on a copy of a slice from a DataFrame.\n",
      "Try using .loc[row_indexer,col_indexer] = value instead\n",
      "\n",
      "See the caveats in the documentation: http://pandas.pydata.org/pandas-docs/stable/indexing.html#indexing-view-versus-copy\n",
      "  This is separate from the ipykernel package so we can avoid doing imports until\n"
     ]
    },
    {
     "data": {
      "text/html": [
       "<div>\n",
       "<style scoped>\n",
       "    .dataframe tbody tr th:only-of-type {\n",
       "        vertical-align: middle;\n",
       "    }\n",
       "\n",
       "    .dataframe tbody tr th {\n",
       "        vertical-align: top;\n",
       "    }\n",
       "\n",
       "    .dataframe thead th {\n",
       "        text-align: right;\n",
       "    }\n",
       "</style>\n",
       "<table border=\"1\" class=\"dataframe\">\n",
       "  <thead>\n",
       "    <tr style=\"text-align: right;\">\n",
       "      <th></th>\n",
       "      <th>timestamp</th>\n",
       "      <th>visitorid</th>\n",
       "      <th>event</th>\n",
       "      <th>itemid</th>\n",
       "      <th>transactionid</th>\n",
       "      <th>visitors</th>\n",
       "      <th>items</th>\n",
       "    </tr>\n",
       "  </thead>\n",
       "  <tbody>\n",
       "    <tr>\n",
       "      <th>130</th>\n",
       "      <td>1433222276276</td>\n",
       "      <td>599528</td>\n",
       "      <td>transaction</td>\n",
       "      <td>356475</td>\n",
       "      <td>4000.0</td>\n",
       "      <td>0</td>\n",
       "      <td>0</td>\n",
       "    </tr>\n",
       "    <tr>\n",
       "      <th>304</th>\n",
       "      <td>1433193500981</td>\n",
       "      <td>121688</td>\n",
       "      <td>transaction</td>\n",
       "      <td>15335</td>\n",
       "      <td>11117.0</td>\n",
       "      <td>1</td>\n",
       "      <td>1</td>\n",
       "    </tr>\n",
       "    <tr>\n",
       "      <th>418</th>\n",
       "      <td>1433193915008</td>\n",
       "      <td>552148</td>\n",
       "      <td>transaction</td>\n",
       "      <td>81345</td>\n",
       "      <td>5444.0</td>\n",
       "      <td>2</td>\n",
       "      <td>2</td>\n",
       "    </tr>\n",
       "    <tr>\n",
       "      <th>814</th>\n",
       "      <td>1433176736375</td>\n",
       "      <td>102019</td>\n",
       "      <td>transaction</td>\n",
       "      <td>150318</td>\n",
       "      <td>13556.0</td>\n",
       "      <td>3</td>\n",
       "      <td>3</td>\n",
       "    </tr>\n",
       "    <tr>\n",
       "      <th>843</th>\n",
       "      <td>1433174518180</td>\n",
       "      <td>189384</td>\n",
       "      <td>transaction</td>\n",
       "      <td>310791</td>\n",
       "      <td>7244.0</td>\n",
       "      <td>4</td>\n",
       "      <td>4</td>\n",
       "    </tr>\n",
       "    <tr>\n",
       "      <th>1214</th>\n",
       "      <td>1433184261340</td>\n",
       "      <td>350566</td>\n",
       "      <td>transaction</td>\n",
       "      <td>54058</td>\n",
       "      <td>8796.0</td>\n",
       "      <td>5</td>\n",
       "      <td>5</td>\n",
       "    </tr>\n",
       "    <tr>\n",
       "      <th>1215</th>\n",
       "      <td>1433184261371</td>\n",
       "      <td>350566</td>\n",
       "      <td>transaction</td>\n",
       "      <td>284871</td>\n",
       "      <td>8796.0</td>\n",
       "      <td>5</td>\n",
       "      <td>6</td>\n",
       "    </tr>\n",
       "    <tr>\n",
       "      <th>1234</th>\n",
       "      <td>1433182772710</td>\n",
       "      <td>404403</td>\n",
       "      <td>transaction</td>\n",
       "      <td>150100</td>\n",
       "      <td>5216.0</td>\n",
       "      <td>6</td>\n",
       "      <td>7</td>\n",
       "    </tr>\n",
       "    <tr>\n",
       "      <th>1350</th>\n",
       "      <td>1433164275232</td>\n",
       "      <td>505565</td>\n",
       "      <td>transaction</td>\n",
       "      <td>243566</td>\n",
       "      <td>11713.0</td>\n",
       "      <td>7</td>\n",
       "      <td>8</td>\n",
       "    </tr>\n",
       "    <tr>\n",
       "      <th>1512</th>\n",
       "      <td>1433180403455</td>\n",
       "      <td>945184</td>\n",
       "      <td>transaction</td>\n",
       "      <td>245400</td>\n",
       "      <td>2415.0</td>\n",
       "      <td>8</td>\n",
       "      <td>9</td>\n",
       "    </tr>\n",
       "    <tr>\n",
       "      <th>1690</th>\n",
       "      <td>1433177808042</td>\n",
       "      <td>1406787</td>\n",
       "      <td>transaction</td>\n",
       "      <td>336832</td>\n",
       "      <td>15915.0</td>\n",
       "      <td>9</td>\n",
       "      <td>10</td>\n",
       "    </tr>\n",
       "    <tr>\n",
       "      <th>1711</th>\n",
       "      <td>1433179768674</td>\n",
       "      <td>820159</td>\n",
       "      <td>transaction</td>\n",
       "      <td>202052</td>\n",
       "      <td>14924.0</td>\n",
       "      <td>10</td>\n",
       "      <td>11</td>\n",
       "    </tr>\n",
       "    <tr>\n",
       "      <th>1871</th>\n",
       "      <td>1433202096802</td>\n",
       "      <td>319880</td>\n",
       "      <td>transaction</td>\n",
       "      <td>7943</td>\n",
       "      <td>11615.0</td>\n",
       "      <td>11</td>\n",
       "      <td>12</td>\n",
       "    </tr>\n",
       "    <tr>\n",
       "      <th>2075</th>\n",
       "      <td>1433199718976</td>\n",
       "      <td>608628</td>\n",
       "      <td>transaction</td>\n",
       "      <td>185598</td>\n",
       "      <td>11956.0</td>\n",
       "      <td>12</td>\n",
       "      <td>13</td>\n",
       "    </tr>\n",
       "    <tr>\n",
       "      <th>2142</th>\n",
       "      <td>1433212286455</td>\n",
       "      <td>956011</td>\n",
       "      <td>transaction</td>\n",
       "      <td>338308</td>\n",
       "      <td>3051.0</td>\n",
       "      <td>13</td>\n",
       "      <td>14</td>\n",
       "    </tr>\n",
       "    <tr>\n",
       "      <th>2237</th>\n",
       "      <td>1433208558795</td>\n",
       "      <td>1318394</td>\n",
       "      <td>transaction</td>\n",
       "      <td>318333</td>\n",
       "      <td>11413.0</td>\n",
       "      <td>14</td>\n",
       "      <td>15</td>\n",
       "    </tr>\n",
       "    <tr>\n",
       "      <th>2242</th>\n",
       "      <td>1433208587406</td>\n",
       "      <td>61806</td>\n",
       "      <td>transaction</td>\n",
       "      <td>68242</td>\n",
       "      <td>1343.0</td>\n",
       "      <td>15</td>\n",
       "      <td>16</td>\n",
       "    </tr>\n",
       "    <tr>\n",
       "      <th>2292</th>\n",
       "      <td>1433209368340</td>\n",
       "      <td>1331125</td>\n",
       "      <td>transaction</td>\n",
       "      <td>185896</td>\n",
       "      <td>11138.0</td>\n",
       "      <td>16</td>\n",
       "      <td>17</td>\n",
       "    </tr>\n",
       "    <tr>\n",
       "      <th>2315</th>\n",
       "      <td>1433211518562</td>\n",
       "      <td>911093</td>\n",
       "      <td>transaction</td>\n",
       "      <td>277119</td>\n",
       "      <td>1798.0</td>\n",
       "      <td>17</td>\n",
       "      <td>18</td>\n",
       "    </tr>\n",
       "    <tr>\n",
       "      <th>2316</th>\n",
       "      <td>1433211518578</td>\n",
       "      <td>911093</td>\n",
       "      <td>transaction</td>\n",
       "      <td>251130</td>\n",
       "      <td>1798.0</td>\n",
       "      <td>17</td>\n",
       "      <td>19</td>\n",
       "    </tr>\n",
       "    <tr>\n",
       "      <th>2578</th>\n",
       "      <td>1433143128864</td>\n",
       "      <td>157419</td>\n",
       "      <td>transaction</td>\n",
       "      <td>63769</td>\n",
       "      <td>16605.0</td>\n",
       "      <td>18</td>\n",
       "      <td>20</td>\n",
       "    </tr>\n",
       "    <tr>\n",
       "      <th>2608</th>\n",
       "      <td>1433143128880</td>\n",
       "      <td>157419</td>\n",
       "      <td>transaction</td>\n",
       "      <td>135703</td>\n",
       "      <td>16605.0</td>\n",
       "      <td>18</td>\n",
       "      <td>21</td>\n",
       "    </tr>\n",
       "    <tr>\n",
       "      <th>2789</th>\n",
       "      <td>1433154271395</td>\n",
       "      <td>1166562</td>\n",
       "      <td>transaction</td>\n",
       "      <td>103311</td>\n",
       "      <td>16717.0</td>\n",
       "      <td>19</td>\n",
       "      <td>22</td>\n",
       "    </tr>\n",
       "    <tr>\n",
       "      <th>2946</th>\n",
       "      <td>1433196261122</td>\n",
       "      <td>464138</td>\n",
       "      <td>transaction</td>\n",
       "      <td>428257</td>\n",
       "      <td>16951.0</td>\n",
       "      <td>20</td>\n",
       "      <td>23</td>\n",
       "    </tr>\n",
       "    <tr>\n",
       "      <th>2981</th>\n",
       "      <td>1433196272991</td>\n",
       "      <td>273406</td>\n",
       "      <td>transaction</td>\n",
       "      <td>256146</td>\n",
       "      <td>8900.0</td>\n",
       "      <td>21</td>\n",
       "      <td>24</td>\n",
       "    </tr>\n",
       "    <tr>\n",
       "      <th>3341</th>\n",
       "      <td>1433216459038</td>\n",
       "      <td>1233140</td>\n",
       "      <td>transaction</td>\n",
       "      <td>167827</td>\n",
       "      <td>15894.0</td>\n",
       "      <td>22</td>\n",
       "      <td>25</td>\n",
       "    </tr>\n",
       "    <tr>\n",
       "      <th>3346</th>\n",
       "      <td>1433216459038</td>\n",
       "      <td>1233140</td>\n",
       "      <td>transaction</td>\n",
       "      <td>387504</td>\n",
       "      <td>15894.0</td>\n",
       "      <td>22</td>\n",
       "      <td>26</td>\n",
       "    </tr>\n",
       "    <tr>\n",
       "      <th>3489</th>\n",
       "      <td>1433207202981</td>\n",
       "      <td>813069</td>\n",
       "      <td>transaction</td>\n",
       "      <td>201598</td>\n",
       "      <td>11179.0</td>\n",
       "      <td>23</td>\n",
       "      <td>27</td>\n",
       "    </tr>\n",
       "    <tr>\n",
       "      <th>3521</th>\n",
       "      <td>1433207298898</td>\n",
       "      <td>504901</td>\n",
       "      <td>transaction</td>\n",
       "      <td>367664</td>\n",
       "      <td>8467.0</td>\n",
       "      <td>24</td>\n",
       "      <td>28</td>\n",
       "    </tr>\n",
       "    <tr>\n",
       "      <th>3568</th>\n",
       "      <td>1433205161452</td>\n",
       "      <td>1041255</td>\n",
       "      <td>transaction</td>\n",
       "      <td>10034</td>\n",
       "      <td>17128.0</td>\n",
       "      <td>25</td>\n",
       "      <td>29</td>\n",
       "    </tr>\n",
       "    <tr>\n",
       "      <th>...</th>\n",
       "      <td>...</td>\n",
       "      <td>...</td>\n",
       "      <td>...</td>\n",
       "      <td>...</td>\n",
       "      <td>...</td>\n",
       "      <td>...</td>\n",
       "      <td>...</td>\n",
       "    </tr>\n",
       "    <tr>\n",
       "      <th>2750509</th>\n",
       "      <td>1438368812585</td>\n",
       "      <td>1214988</td>\n",
       "      <td>transaction</td>\n",
       "      <td>464751</td>\n",
       "      <td>9316.0</td>\n",
       "      <td>11655</td>\n",
       "      <td>4059</td>\n",
       "    </tr>\n",
       "    <tr>\n",
       "      <th>2750559</th>\n",
       "      <td>1438370832344</td>\n",
       "      <td>1253966</td>\n",
       "      <td>transaction</td>\n",
       "      <td>387836</td>\n",
       "      <td>4546.0</td>\n",
       "      <td>11701</td>\n",
       "      <td>11936</td>\n",
       "    </tr>\n",
       "    <tr>\n",
       "      <th>2750594</th>\n",
       "      <td>1438372700741</td>\n",
       "      <td>257726</td>\n",
       "      <td>transaction</td>\n",
       "      <td>57841</td>\n",
       "      <td>3567.0</td>\n",
       "      <td>11656</td>\n",
       "      <td>4244</td>\n",
       "    </tr>\n",
       "    <tr>\n",
       "      <th>2750692</th>\n",
       "      <td>1438373706127</td>\n",
       "      <td>32596</td>\n",
       "      <td>transaction</td>\n",
       "      <td>430113</td>\n",
       "      <td>8237.0</td>\n",
       "      <td>11702</td>\n",
       "      <td>10796</td>\n",
       "    </tr>\n",
       "    <tr>\n",
       "      <th>2750802</th>\n",
       "      <td>1438375621567</td>\n",
       "      <td>1288872</td>\n",
       "      <td>transaction</td>\n",
       "      <td>17322</td>\n",
       "      <td>1015.0</td>\n",
       "      <td>11680</td>\n",
       "      <td>9032</td>\n",
       "    </tr>\n",
       "    <tr>\n",
       "      <th>2750819</th>\n",
       "      <td>1438373051591</td>\n",
       "      <td>218648</td>\n",
       "      <td>transaction</td>\n",
       "      <td>234255</td>\n",
       "      <td>1413.0</td>\n",
       "      <td>3646</td>\n",
       "      <td>220</td>\n",
       "    </tr>\n",
       "    <tr>\n",
       "      <th>2750976</th>\n",
       "      <td>1438364486799</td>\n",
       "      <td>130294</td>\n",
       "      <td>transaction</td>\n",
       "      <td>426657</td>\n",
       "      <td>4931.0</td>\n",
       "      <td>11703</td>\n",
       "      <td>12013</td>\n",
       "    </tr>\n",
       "    <tr>\n",
       "      <th>2750989</th>\n",
       "      <td>1438367292609</td>\n",
       "      <td>1097216</td>\n",
       "      <td>transaction</td>\n",
       "      <td>151668</td>\n",
       "      <td>15877.0</td>\n",
       "      <td>11684</td>\n",
       "      <td>12014</td>\n",
       "    </tr>\n",
       "    <tr>\n",
       "      <th>2750990</th>\n",
       "      <td>1438367292594</td>\n",
       "      <td>1097216</td>\n",
       "      <td>transaction</td>\n",
       "      <td>109308</td>\n",
       "      <td>15877.0</td>\n",
       "      <td>11684</td>\n",
       "      <td>3496</td>\n",
       "    </tr>\n",
       "    <tr>\n",
       "      <th>2751297</th>\n",
       "      <td>1438324747708</td>\n",
       "      <td>312976</td>\n",
       "      <td>transaction</td>\n",
       "      <td>325384</td>\n",
       "      <td>1665.0</td>\n",
       "      <td>11704</td>\n",
       "      <td>12016</td>\n",
       "    </tr>\n",
       "    <tr>\n",
       "      <th>2751363</th>\n",
       "      <td>1438362585920</td>\n",
       "      <td>283269</td>\n",
       "      <td>transaction</td>\n",
       "      <td>439734</td>\n",
       "      <td>12533.0</td>\n",
       "      <td>11705</td>\n",
       "      <td>12017</td>\n",
       "    </tr>\n",
       "    <tr>\n",
       "      <th>2751419</th>\n",
       "      <td>1438364101606</td>\n",
       "      <td>896088</td>\n",
       "      <td>transaction</td>\n",
       "      <td>153830</td>\n",
       "      <td>14165.0</td>\n",
       "      <td>11650</td>\n",
       "      <td>6408</td>\n",
       "    </tr>\n",
       "    <tr>\n",
       "      <th>2751519</th>\n",
       "      <td>1438363115138</td>\n",
       "      <td>1118015</td>\n",
       "      <td>transaction</td>\n",
       "      <td>268883</td>\n",
       "      <td>13066.0</td>\n",
       "      <td>11706</td>\n",
       "      <td>674</td>\n",
       "    </tr>\n",
       "    <tr>\n",
       "      <th>2751646</th>\n",
       "      <td>1438359544279</td>\n",
       "      <td>1163417</td>\n",
       "      <td>transaction</td>\n",
       "      <td>449776</td>\n",
       "      <td>4621.0</td>\n",
       "      <td>11707</td>\n",
       "      <td>3653</td>\n",
       "    </tr>\n",
       "    <tr>\n",
       "      <th>2751697</th>\n",
       "      <td>1438357998722</td>\n",
       "      <td>1316429</td>\n",
       "      <td>transaction</td>\n",
       "      <td>14731</td>\n",
       "      <td>11423.0</td>\n",
       "      <td>11708</td>\n",
       "      <td>12018</td>\n",
       "    </tr>\n",
       "    <tr>\n",
       "      <th>2751721</th>\n",
       "      <td>1438359808126</td>\n",
       "      <td>1186376</td>\n",
       "      <td>transaction</td>\n",
       "      <td>132074</td>\n",
       "      <td>162.0</td>\n",
       "      <td>11709</td>\n",
       "      <td>12019</td>\n",
       "    </tr>\n",
       "    <tr>\n",
       "      <th>2751759</th>\n",
       "      <td>1438359288212</td>\n",
       "      <td>104866</td>\n",
       "      <td>transaction</td>\n",
       "      <td>272969</td>\n",
       "      <td>9603.0</td>\n",
       "      <td>11710</td>\n",
       "      <td>1330</td>\n",
       "    </tr>\n",
       "    <tr>\n",
       "      <th>2752444</th>\n",
       "      <td>1438394317466</td>\n",
       "      <td>118200</td>\n",
       "      <td>transaction</td>\n",
       "      <td>174923</td>\n",
       "      <td>17186.0</td>\n",
       "      <td>11711</td>\n",
       "      <td>4184</td>\n",
       "    </tr>\n",
       "    <tr>\n",
       "      <th>2753046</th>\n",
       "      <td>1438361135960</td>\n",
       "      <td>331807</td>\n",
       "      <td>transaction</td>\n",
       "      <td>248455</td>\n",
       "      <td>16405.0</td>\n",
       "      <td>11712</td>\n",
       "      <td>3595</td>\n",
       "    </tr>\n",
       "    <tr>\n",
       "      <th>2753612</th>\n",
       "      <td>1438394077271</td>\n",
       "      <td>722657</td>\n",
       "      <td>transaction</td>\n",
       "      <td>419980</td>\n",
       "      <td>2354.0</td>\n",
       "      <td>11696</td>\n",
       "      <td>12021</td>\n",
       "    </tr>\n",
       "    <tr>\n",
       "      <th>2753748</th>\n",
       "      <td>1438375193522</td>\n",
       "      <td>1099749</td>\n",
       "      <td>transaction</td>\n",
       "      <td>160671</td>\n",
       "      <td>1089.0</td>\n",
       "      <td>11682</td>\n",
       "      <td>12022</td>\n",
       "    </tr>\n",
       "    <tr>\n",
       "      <th>2753826</th>\n",
       "      <td>1438375017107</td>\n",
       "      <td>899006</td>\n",
       "      <td>transaction</td>\n",
       "      <td>384823</td>\n",
       "      <td>8122.0</td>\n",
       "      <td>11713</td>\n",
       "      <td>12023</td>\n",
       "    </tr>\n",
       "    <tr>\n",
       "      <th>2754521</th>\n",
       "      <td>1438385463811</td>\n",
       "      <td>1134909</td>\n",
       "      <td>transaction</td>\n",
       "      <td>20968</td>\n",
       "      <td>16316.0</td>\n",
       "      <td>11714</td>\n",
       "      <td>3693</td>\n",
       "    </tr>\n",
       "    <tr>\n",
       "      <th>2754851</th>\n",
       "      <td>1438369131662</td>\n",
       "      <td>370681</td>\n",
       "      <td>transaction</td>\n",
       "      <td>178274</td>\n",
       "      <td>10966.0</td>\n",
       "      <td>11693</td>\n",
       "      <td>1062</td>\n",
       "    </tr>\n",
       "    <tr>\n",
       "      <th>2754886</th>\n",
       "      <td>1438370798050</td>\n",
       "      <td>972757</td>\n",
       "      <td>transaction</td>\n",
       "      <td>418693</td>\n",
       "      <td>1702.0</td>\n",
       "      <td>11715</td>\n",
       "      <td>5690</td>\n",
       "    </tr>\n",
       "    <tr>\n",
       "      <th>2755082</th>\n",
       "      <td>1438388436295</td>\n",
       "      <td>1155978</td>\n",
       "      <td>transaction</td>\n",
       "      <td>430050</td>\n",
       "      <td>4316.0</td>\n",
       "      <td>11716</td>\n",
       "      <td>6280</td>\n",
       "    </tr>\n",
       "    <tr>\n",
       "      <th>2755285</th>\n",
       "      <td>1438380441389</td>\n",
       "      <td>218648</td>\n",
       "      <td>transaction</td>\n",
       "      <td>446271</td>\n",
       "      <td>10485.0</td>\n",
       "      <td>3646</td>\n",
       "      <td>12024</td>\n",
       "    </tr>\n",
       "    <tr>\n",
       "      <th>2755294</th>\n",
       "      <td>1438377176570</td>\n",
       "      <td>1050575</td>\n",
       "      <td>transaction</td>\n",
       "      <td>31640</td>\n",
       "      <td>8354.0</td>\n",
       "      <td>11717</td>\n",
       "      <td>3246</td>\n",
       "    </tr>\n",
       "    <tr>\n",
       "      <th>2755508</th>\n",
       "      <td>1438357730123</td>\n",
       "      <td>855941</td>\n",
       "      <td>transaction</td>\n",
       "      <td>235771</td>\n",
       "      <td>4385.0</td>\n",
       "      <td>11718</td>\n",
       "      <td>2419</td>\n",
       "    </tr>\n",
       "    <tr>\n",
       "      <th>2755607</th>\n",
       "      <td>1438358989163</td>\n",
       "      <td>1051054</td>\n",
       "      <td>transaction</td>\n",
       "      <td>312728</td>\n",
       "      <td>17579.0</td>\n",
       "      <td>11659</td>\n",
       "      <td>188</td>\n",
       "    </tr>\n",
       "  </tbody>\n",
       "</table>\n",
       "<p>19939 rows × 7 columns</p>\n",
       "</div>"
      ],
      "text/plain": [
       "             timestamp  visitorid        event  itemid  transactionid  \\\n",
       "130      1433222276276     599528  transaction  356475         4000.0   \n",
       "304      1433193500981     121688  transaction   15335        11117.0   \n",
       "418      1433193915008     552148  transaction   81345         5444.0   \n",
       "814      1433176736375     102019  transaction  150318        13556.0   \n",
       "843      1433174518180     189384  transaction  310791         7244.0   \n",
       "1214     1433184261340     350566  transaction   54058         8796.0   \n",
       "1215     1433184261371     350566  transaction  284871         8796.0   \n",
       "1234     1433182772710     404403  transaction  150100         5216.0   \n",
       "1350     1433164275232     505565  transaction  243566        11713.0   \n",
       "1512     1433180403455     945184  transaction  245400         2415.0   \n",
       "1690     1433177808042    1406787  transaction  336832        15915.0   \n",
       "1711     1433179768674     820159  transaction  202052        14924.0   \n",
       "1871     1433202096802     319880  transaction    7943        11615.0   \n",
       "2075     1433199718976     608628  transaction  185598        11956.0   \n",
       "2142     1433212286455     956011  transaction  338308         3051.0   \n",
       "2237     1433208558795    1318394  transaction  318333        11413.0   \n",
       "2242     1433208587406      61806  transaction   68242         1343.0   \n",
       "2292     1433209368340    1331125  transaction  185896        11138.0   \n",
       "2315     1433211518562     911093  transaction  277119         1798.0   \n",
       "2316     1433211518578     911093  transaction  251130         1798.0   \n",
       "2578     1433143128864     157419  transaction   63769        16605.0   \n",
       "2608     1433143128880     157419  transaction  135703        16605.0   \n",
       "2789     1433154271395    1166562  transaction  103311        16717.0   \n",
       "2946     1433196261122     464138  transaction  428257        16951.0   \n",
       "2981     1433196272991     273406  transaction  256146         8900.0   \n",
       "3341     1433216459038    1233140  transaction  167827        15894.0   \n",
       "3346     1433216459038    1233140  transaction  387504        15894.0   \n",
       "3489     1433207202981     813069  transaction  201598        11179.0   \n",
       "3521     1433207298898     504901  transaction  367664         8467.0   \n",
       "3568     1433205161452    1041255  transaction   10034        17128.0   \n",
       "...                ...        ...          ...     ...            ...   \n",
       "2750509  1438368812585    1214988  transaction  464751         9316.0   \n",
       "2750559  1438370832344    1253966  transaction  387836         4546.0   \n",
       "2750594  1438372700741     257726  transaction   57841         3567.0   \n",
       "2750692  1438373706127      32596  transaction  430113         8237.0   \n",
       "2750802  1438375621567    1288872  transaction   17322         1015.0   \n",
       "2750819  1438373051591     218648  transaction  234255         1413.0   \n",
       "2750976  1438364486799     130294  transaction  426657         4931.0   \n",
       "2750989  1438367292609    1097216  transaction  151668        15877.0   \n",
       "2750990  1438367292594    1097216  transaction  109308        15877.0   \n",
       "2751297  1438324747708     312976  transaction  325384         1665.0   \n",
       "2751363  1438362585920     283269  transaction  439734        12533.0   \n",
       "2751419  1438364101606     896088  transaction  153830        14165.0   \n",
       "2751519  1438363115138    1118015  transaction  268883        13066.0   \n",
       "2751646  1438359544279    1163417  transaction  449776         4621.0   \n",
       "2751697  1438357998722    1316429  transaction   14731        11423.0   \n",
       "2751721  1438359808126    1186376  transaction  132074          162.0   \n",
       "2751759  1438359288212     104866  transaction  272969         9603.0   \n",
       "2752444  1438394317466     118200  transaction  174923        17186.0   \n",
       "2753046  1438361135960     331807  transaction  248455        16405.0   \n",
       "2753612  1438394077271     722657  transaction  419980         2354.0   \n",
       "2753748  1438375193522    1099749  transaction  160671         1089.0   \n",
       "2753826  1438375017107     899006  transaction  384823         8122.0   \n",
       "2754521  1438385463811    1134909  transaction   20968        16316.0   \n",
       "2754851  1438369131662     370681  transaction  178274        10966.0   \n",
       "2754886  1438370798050     972757  transaction  418693         1702.0   \n",
       "2755082  1438388436295    1155978  transaction  430050         4316.0   \n",
       "2755285  1438380441389     218648  transaction  446271        10485.0   \n",
       "2755294  1438377176570    1050575  transaction   31640         8354.0   \n",
       "2755508  1438357730123     855941  transaction  235771         4385.0   \n",
       "2755607  1438358989163    1051054  transaction  312728        17579.0   \n",
       "\n",
       "         visitors  items  \n",
       "130             0      0  \n",
       "304             1      1  \n",
       "418             2      2  \n",
       "814             3      3  \n",
       "843             4      4  \n",
       "1214            5      5  \n",
       "1215            5      6  \n",
       "1234            6      7  \n",
       "1350            7      8  \n",
       "1512            8      9  \n",
       "1690            9     10  \n",
       "1711           10     11  \n",
       "1871           11     12  \n",
       "2075           12     13  \n",
       "2142           13     14  \n",
       "2237           14     15  \n",
       "2242           15     16  \n",
       "2292           16     17  \n",
       "2315           17     18  \n",
       "2316           17     19  \n",
       "2578           18     20  \n",
       "2608           18     21  \n",
       "2789           19     22  \n",
       "2946           20     23  \n",
       "2981           21     24  \n",
       "3341           22     25  \n",
       "3346           22     26  \n",
       "3489           23     27  \n",
       "3521           24     28  \n",
       "3568           25     29  \n",
       "...           ...    ...  \n",
       "2750509     11655   4059  \n",
       "2750559     11701  11936  \n",
       "2750594     11656   4244  \n",
       "2750692     11702  10796  \n",
       "2750802     11680   9032  \n",
       "2750819      3646    220  \n",
       "2750976     11703  12013  \n",
       "2750989     11684  12014  \n",
       "2750990     11684   3496  \n",
       "2751297     11704  12016  \n",
       "2751363     11705  12017  \n",
       "2751419     11650   6408  \n",
       "2751519     11706    674  \n",
       "2751646     11707   3653  \n",
       "2751697     11708  12018  \n",
       "2751721     11709  12019  \n",
       "2751759     11710   1330  \n",
       "2752444     11711   4184  \n",
       "2753046     11712   3595  \n",
       "2753612     11696  12021  \n",
       "2753748     11682  12022  \n",
       "2753826     11713  12023  \n",
       "2754521     11714   3693  \n",
       "2754851     11693   1062  \n",
       "2754886     11715   5690  \n",
       "2755082     11716   6280  \n",
       "2755285      3646  12024  \n",
       "2755294     11717   3246  \n",
       "2755508     11718   2419  \n",
       "2755607     11659    188  \n",
       "\n",
       "[19939 rows x 7 columns]"
      ]
     },
     "execution_count": 56,
     "metadata": {},
     "output_type": "execute_result"
    }
   ],
   "source": [
    "trans2 = trans_events.groupby('visitorid').head(50)\n",
    "trans2['visitors'] = trans2['visitorid'].apply(lambda x : np.argwhere(visitors == x)[0][0])\n",
    "trans2['items'] = trans2['itemid'].apply(lambda x : np.argwhere(items == x)[0][0])\n",
    "trans2"
   ]
  },
  {
   "cell_type": "code",
   "execution_count": 60,
   "metadata": {},
   "outputs": [
    {
     "data": {
      "text/plain": [
       "493.2234125"
      ]
     },
     "execution_count": 60,
     "metadata": {},
     "output_type": "execute_result"
    }
   ],
   "source": [
    "11719 * 12025 * sys.getsizeof(np.int32()) / (8 * (10 ** 6)) \n",
    "# user-item matrix will be 500MB large, sparse matrix to the rescue"
   ]
  },
  {
   "cell_type": "code",
   "execution_count": 64,
   "metadata": {},
   "outputs": [],
   "source": [
    "from scipy.sparse import csr_matrix, lil_matrix"
   ]
  },
  {
   "cell_type": "code",
   "execution_count": 65,
   "metadata": {},
   "outputs": [
    {
     "data": {
      "text/plain": [
       "<11719x12025 sparse matrix of type '<class 'numpy.int8'>'\n",
       "\twith 18905 stored elements in LInked List format>"
      ]
     },
     "execution_count": 65,
     "metadata": {},
     "output_type": "execute_result"
    }
   ],
   "source": [
    "occurences = lil_matrix((visitors.shape[0], items.shape[0]), dtype='int8')\n",
    "\n",
    "def set_occurences(visitor, item):\n",
    "    occurences[visitor, item] += 1\n",
    "    \n",
    "trans2.apply(lambda row: set_occurences(row['visitors'], row['items']), axis=1)\n",
    "occurences"
   ]
  },
  {
   "cell_type": "markdown",
   "metadata": {},
   "source": [
    "From those 140 million cells in the matrix, only 18,905 are filled with non-zero.  \n",
    "So basically you only need to store those 18,905 value to the memory. A 99.99% improved efficiency.  \n",
    "The downside of the sparse matrix is, it is computationally higher when trying to retrieve the data in real-time. So, you should not finish at this step.  \n",
    "\n",
    "Now let's create a co-occurence matrix i.e. an item-item matrix where each element means how many times both items bought togehter by a user.  \n",
    "To create one we need to do the dot product the transpose of the occursence matrix with itself.  "
   ]
  },
  {
   "cell_type": "code",
   "execution_count": 66,
   "metadata": {},
   "outputs": [
    {
     "name": "stderr",
     "output_type": "stream",
     "text": [
      "/Users/meganyow/anaconda3/lib/python3.7/site-packages/scipy/sparse/compressed.py:746: SparseEfficiencyWarning: Changing the sparsity structure of a csr_matrix is expensive. lil_matrix is more efficient.\n",
      "  SparseEfficiencyWarning)\n"
     ]
    }
   ],
   "source": [
    "cooc = occurences.transpose().dot(occurences)\n",
    "cooc.setdiag(0)"
   ]
  },
  {
   "cell_type": "markdown",
   "metadata": {},
   "source": [
    "Use Log-Likelihood Ratio to penalize the score of co-occurence matrix to make predictions generalizable  \n",
    "remove effects on purchasing behaviour caused by flash sale  \n",
    "http://tdunning.blogspot.com/2008/03/surprise-and-coincidence.html"
   ]
  },
  {
   "cell_type": "code",
   "execution_count": 68,
   "metadata": {},
   "outputs": [],
   "source": [
    "def xLogX(x):\n",
    "    return x * np.log(x) if x != 0 else 0.0\n",
    "\n",
    "def entropy(x1, x2=0, x3=0, x4=0):\n",
    "    return xLogX(x1 + x2 + x3 + x4) - xLogX(x1) - xLogX(x2) - xLogX(x3) - xLogX(x4)\n",
    "\n",
    "def LLR(k11, k12, k21, k22):\n",
    "    \"\"\"\n",
    "    calculate likelihood of two events, A and B appear together\n",
    "\n",
    "    k11, number of when both events appeared together\n",
    "    k12, number of B appear without A\n",
    "    k21, number of A appear without B\n",
    "    k22, number of other things appeared without both of them\n",
    "    \"\"\"\n",
    "    rowEntropy = entropy(k11 + k12, k21 + k22)\n",
    "    columnEntropy = entropy(k11 + k21, k12 + k22)\n",
    "    matrixEntropy = entropy(k11, k12, k21, k22)\n",
    "    if rowEntropy + columnEntropy < matrixEntropy:\n",
    "        return 0.0\n",
    "    return 2.0 * (rowEntropy + columnEntropy - matrixEntropy)\n",
    "\n",
    "def rootLLR(k11, k12, k21, k22):\n",
    "    llr = LLR(k11, k12, k21, k22)\n",
    "    sqrt = np.sqrt(llr)\n",
    "    if k11 * 1.0 / (k11 + k12) < k21 * 1.0 / (k21 + k22):\n",
    "        sqrt = -sqrt\n",
    "    return sqrt"
   ]
  },
  {
   "cell_type": "code",
   "execution_count": 70,
   "metadata": {},
   "outputs": [
    {
     "name": "stderr",
     "output_type": "stream",
     "text": [
      "/Users/meganyow/anaconda3/lib/python3.7/site-packages/scipy/sparse/compressed.py:746: SparseEfficiencyWarning: Changing the sparsity structure of a csr_matrix is expensive. lil_matrix is more efficient.\n",
      "  SparseEfficiencyWarning)\n"
     ]
    }
   ],
   "source": [
    "row_sum = np.sum(cooc, axis=0).A.flatten()\n",
    "column_sum = np.sum(cooc, axis=1).A.flatten()\n",
    "total = np.sum(row_sum, axis=0)\n",
    "pp_score = csr_matrix((cooc.shape[0], cooc.shape[1]), dtype='double')\n",
    "cx = cooc.tocoo()\n",
    "\n",
    "for i,j,v in zip(cx.row, cx.col, cx.data):\n",
    "    if v != 0:\n",
    "        k11 = v\n",
    "        k12 = row_sum[i] - k11\n",
    "        k21 = column_sum[j] - k11\n",
    "        k22 = total - k11 - k12 - k21\n",
    "        pp_score[i,j] = rootLLR(k11, k12, k21, k22)"
   ]
  },
  {
   "cell_type": "code",
   "execution_count": 71,
   "metadata": {},
   "outputs": [],
   "source": [
    "result = np.flip(np.sort(pp_score.A, axis=1), axis=1)\n",
    "result_indices = np.flip(np.argsort(pp_score.A, axis=1), axis=1)"
   ]
  },
  {
   "cell_type": "code",
   "execution_count": 72,
   "metadata": {},
   "outputs": [
    {
     "data": {
      "text/plain": [
       "array([15.33511076, 14.60017668,  3.62091635, ...,  0.        ,\n",
       "        0.        ,  0.        ])"
      ]
     },
     "execution_count": 72,
     "metadata": {},
     "output_type": "execute_result"
    }
   ],
   "source": [
    "result[8456]"
   ]
  },
  {
   "cell_type": "code",
   "execution_count": 73,
   "metadata": {},
   "outputs": [
    {
     "data": {
      "text/plain": [
       "array([8682,  380, 8501, ..., 8010, 8009,    0])"
      ]
     },
     "execution_count": 73,
     "metadata": {},
     "output_type": "execute_result"
    }
   ],
   "source": [
    "result_indices[8456]"
   ]
  },
  {
   "cell_type": "markdown",
   "metadata": {},
   "source": [
    "You can safely answer that with a high number of LLR score, item 8682 and 380 can be an indicator for item 8456. While item 8501 since the score is not that big, might not be an indicator for item 8456.\n",
    "It means that, if someone bought 8682 and 380, you can recommend him 8456."
   ]
  },
  {
   "cell_type": "code",
   "execution_count": 74,
   "metadata": {},
   "outputs": [],
   "source": [
    "minLLR = 5\n",
    "indicators = result[:, :50]\n",
    "indicators[indicators < minLLR] = 0.0\n",
    "indicators_indices = result_indices[:, :50]\n",
    "max_indicator_indices = (indicators==0).argmax(axis=1)\n",
    "max = max_indicator_indices.max()\n",
    "indicators = indicators[:, :max+1]\n",
    "indicators_indices = indicators_indices[:, :max+1]"
   ]
  },
  {
   "cell_type": "markdown",
   "metadata": {},
   "source": [
    "## Productionalize Model\n",
    "\n",
    "Using elasticsearch using bulk API that can send multiple documents at once"
   ]
  },
  {
   "cell_type": "code",
   "execution_count": 75,
   "metadata": {},
   "outputs": [],
   "source": [
    "import requests\n",
    "import json"
   ]
  },
  {
   "cell_type": "code",
   "execution_count": 77,
   "metadata": {},
   "outputs": [],
   "source": [
    "def bulk_update(url, items):\n",
    "    actions = []\n",
    "    for i in range(indicators.shape[0]):\n",
    "        length = indicators[i].nonzero()[0].shape[0]\n",
    "        real_indicators = items[indicators_indices[i, :length]].astype(\"int\").tolist()\n",
    "        id = items[i]\n",
    "\n",
    "        action = { \"index\" : { \"_index\" : \"items2\", \"_id\" : str(id) } }\n",
    "\n",
    "        data = {\n",
    "            \"id\": int(id),\n",
    "            \"indicators\": real_indicators\n",
    "        }\n",
    "\n",
    "        actions.append(json.dumps(action))\n",
    "        actions.append(json.dumps(data))\n",
    "\n",
    "        if len(actions) == 200:\n",
    "            actions_string = \"\\n\".join(actions) + \"\\n\"\n",
    "            actions = []\n",
    "\n",
    "            #url = \"http://127.0.0.1:9200/_bulk/\"\n",
    "            headers = {\n",
    "                \"Content-Type\" : \"application/x-ndjson\"\n",
    "            }\n",
    "            requests.post(url, headers=headers, data=actions_string)\n",
    "    if len(actions) > 0:\n",
    "        actions_string = \"\\n\".join(actions) + \"\\n\"\n",
    "        actions = []\n",
    "        #url = \"http://127.0.0.1:9200/_bulk/\"\n",
    "        headers = {\n",
    "            \"Content-Type\" : \"application/x-ndjson\"\n",
    "        }\n",
    "        requests.post(url, headers=headers, data=actions_string)"
   ]
  },
  {
   "cell_type": "code",
   "execution_count": null,
   "metadata": {},
   "outputs": [],
   "source": []
  }
 ],
 "metadata": {
  "kernelspec": {
   "display_name": "Python 3",
   "language": "python",
   "name": "python3"
  },
  "language_info": {
   "codemirror_mode": {
    "name": "ipython",
    "version": 3
   },
   "file_extension": ".py",
   "mimetype": "text/x-python",
   "name": "python",
   "nbconvert_exporter": "python",
   "pygments_lexer": "ipython3",
   "version": "3.7.2"
  }
 },
 "nbformat": 4,
 "nbformat_minor": 2
}
